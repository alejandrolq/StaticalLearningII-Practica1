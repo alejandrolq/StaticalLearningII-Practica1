{
  "nbformat": 4,
  "nbformat_minor": 0,
  "metadata": {
    "colab": {
      "name": "Ejercicio_XOR_Composicion_Perceptrones.ipynb",
      "provenance": [],
      "authorship_tag": "ABX9TyMkDZVuS+2oudE2pq9FQ6Zt",
      "include_colab_link": true
    },
    "kernelspec": {
      "name": "python3",
      "display_name": "Python 3"
    },
    "language_info": {
      "name": "python"
    }
  },
  "cells": [
    {
      "cell_type": "markdown",
      "metadata": {
        "id": "view-in-github",
        "colab_type": "text"
      },
      "source": [
        "<a href=\"https://colab.research.google.com/github/alejandrolq/StaticalLearningII-Practicas/blob/main/Ejercicio_XOR_Composicion_Perceptrones.ipynb\" target=\"_parent\"><img src=\"https://colab.research.google.com/assets/colab-badge.svg\" alt=\"Open In Colab\"/></a>"
      ]
    },
    {
      "cell_type": "markdown",
      "metadata": {
        "id": "jOLz27LLbUGj"
      },
      "source": [
        "**Nombre: José Alejandro López Quel**\n",
        "\n",
        "**Carné: 21001127**\n",
        "\n",
        "**Statical Learning II**\n",
        "\n",
        "**Sección U**\n",
        "\n",
        "**Ejercicio: XOR con composición y perceptrones**"
      ]
    },
    {
      "cell_type": "code",
      "metadata": {
        "id": "kAgGOOvTbL5V"
      },
      "source": [
        "import numpy as np"
      ],
      "execution_count": 99,
      "outputs": []
    },
    {
      "cell_type": "markdown",
      "metadata": {
        "id": "psvMz8HCcU0P"
      },
      "source": [
        "## Perceptrón NOT"
      ]
    },
    {
      "cell_type": "code",
      "metadata": {
        "id": "grxKJ0J3bkx9"
      },
      "source": [
        "def not_function(X):\n",
        "  parameters = [-1,1]\n",
        "  X = np.append(X, np.ones((X.shape[0], 1)), axis = -1)\n",
        "  result = np.matmul(X,parameters)  \n",
        "  return result.reshape(len(result), 1)"
      ],
      "execution_count": 100,
      "outputs": []
    },
    {
      "cell_type": "code",
      "metadata": {
        "id": "Yjl7fP5HdL46"
      },
      "source": [
        "X = np.array([[1], [0], [1]])"
      ],
      "execution_count": 101,
      "outputs": []
    },
    {
      "cell_type": "code",
      "metadata": {
        "colab": {
          "base_uri": "https://localhost:8080/"
        },
        "id": "ETW0zf9qdQgW",
        "outputId": "15ea2310-e3a0-4c39-a23a-bee9555de275"
      },
      "source": [
        "not_function(X)"
      ],
      "execution_count": 102,
      "outputs": [
        {
          "output_type": "execute_result",
          "data": {
            "text/plain": [
              "array([[0.],\n",
              "       [1.],\n",
              "       [0.]])"
            ]
          },
          "metadata": {},
          "execution_count": 102
        }
      ]
    },
    {
      "cell_type": "markdown",
      "metadata": {
        "id": "q6c3pUDSdZJW"
      },
      "source": [
        "## Perceptrón OR"
      ]
    },
    {
      "cell_type": "code",
      "metadata": {
        "id": "KhjCon-ldSC8"
      },
      "source": [
        "def or_function(X1, X2=[]):\n",
        "  parameters = [1, 1, 0]\n",
        "  if len(X2):\n",
        "    X = np.append(X1, X2, axis = -1)\n",
        "    X = np.append(X, np.ones((X.shape[0], 1)), axis = -1)\n",
        "  else:\n",
        "    X = np.append(X1, np.ones((X1.shape[0], 1)), axis = -1)\n",
        "  result = np.matmul(X,parameters) > 0\n",
        "  return result.reshape(len(result), 1).astype(int)"
      ],
      "execution_count": 103,
      "outputs": []
    },
    {
      "cell_type": "code",
      "metadata": {
        "id": "T-DMCfcqd76E"
      },
      "source": [
        "X1 = np.array([[1], [1], [0]])\n",
        "X2 = np.array([[1], [0], [0]])"
      ],
      "execution_count": 104,
      "outputs": []
    },
    {
      "cell_type": "code",
      "metadata": {
        "colab": {
          "base_uri": "https://localhost:8080/"
        },
        "id": "NfMyZ-ImenpV",
        "outputId": "7a005409-d977-4810-efc2-01da81f4e546"
      },
      "source": [
        "or_function(X1, X2)"
      ],
      "execution_count": 105,
      "outputs": [
        {
          "output_type": "execute_result",
          "data": {
            "text/plain": [
              "array([[1],\n",
              "       [1],\n",
              "       [0]])"
            ]
          },
          "metadata": {},
          "execution_count": 105
        }
      ]
    },
    {
      "cell_type": "code",
      "metadata": {
        "id": "DienUHVGgapE"
      },
      "source": [
        "X = np.array([[1,1], [0,1], [0,0]])"
      ],
      "execution_count": 106,
      "outputs": []
    },
    {
      "cell_type": "code",
      "metadata": {
        "colab": {
          "base_uri": "https://localhost:8080/"
        },
        "id": "i5zwMwN4gdnh",
        "outputId": "65da178c-ecfb-4bab-884b-80a890a27606"
      },
      "source": [
        "or_function(X)"
      ],
      "execution_count": 107,
      "outputs": [
        {
          "output_type": "execute_result",
          "data": {
            "text/plain": [
              "array([[1],\n",
              "       [1],\n",
              "       [0]])"
            ]
          },
          "metadata": {},
          "execution_count": 107
        }
      ]
    },
    {
      "cell_type": "markdown",
      "metadata": {
        "id": "Af_qBq70fhuL"
      },
      "source": [
        "## Perceptrón AND"
      ]
    },
    {
      "cell_type": "code",
      "metadata": {
        "id": "c8-x2dkpgqgG"
      },
      "source": [
        "def and_function(X1, X2=[]):\n",
        "  parameters = [1, 1, -1]\n",
        "  if len(X2):\n",
        "    X = np.append(X1, X2, axis = -1)\n",
        "    X = np.append(X, np.ones((X.shape[0], 1)), axis = -1)\n",
        "  else:\n",
        "    X = np.append(X1, np.ones((X1.shape[0], 1)), axis = -1)\n",
        "  result = np.matmul(X,parameters) > 0\n",
        "  return result.reshape(len(result), 1).astype(int)"
      ],
      "execution_count": 108,
      "outputs": []
    },
    {
      "cell_type": "code",
      "metadata": {
        "id": "q4NQmSUvhAsB"
      },
      "source": [
        "X1 = np.array([[1], [1], [0]])\n",
        "X2 = np.array([[1], [0], [0]])"
      ],
      "execution_count": 109,
      "outputs": []
    },
    {
      "cell_type": "code",
      "metadata": {
        "colab": {
          "base_uri": "https://localhost:8080/"
        },
        "id": "olxmKuC5fji8",
        "outputId": "7b02ed41-0888-45a1-9a28-26f232515947"
      },
      "source": [
        "and_function(X1, X2)"
      ],
      "execution_count": 110,
      "outputs": [
        {
          "output_type": "execute_result",
          "data": {
            "text/plain": [
              "array([[1],\n",
              "       [0],\n",
              "       [0]])"
            ]
          },
          "metadata": {},
          "execution_count": 110
        }
      ]
    },
    {
      "cell_type": "code",
      "metadata": {
        "id": "MsnxSmx-g-jE"
      },
      "source": [
        "X = np.array([[1,1], [0,1], [0,0]])"
      ],
      "execution_count": 111,
      "outputs": []
    },
    {
      "cell_type": "code",
      "metadata": {
        "colab": {
          "base_uri": "https://localhost:8080/"
        },
        "id": "IPvWisOPhDSG",
        "outputId": "ce92f0b6-76ee-4d89-b652-54147b001fa2"
      },
      "source": [
        "and_function(X)"
      ],
      "execution_count": 112,
      "outputs": [
        {
          "output_type": "execute_result",
          "data": {
            "text/plain": [
              "array([[1],\n",
              "       [0],\n",
              "       [0]])"
            ]
          },
          "metadata": {},
          "execution_count": 112
        }
      ]
    },
    {
      "cell_type": "markdown",
      "metadata": {
        "id": "4Mg5SLLnhOup"
      },
      "source": [
        "## Perceptrón XOR"
      ]
    },
    {
      "cell_type": "code",
      "metadata": {
        "id": "gKRbXwiPhEfE"
      },
      "source": [
        "def xor_function(X):  \n",
        "  X1_temp = not_function(and_function(X))\n",
        "  X2_temp = or_function(X)\n",
        "  result = and_function(X1_temp, X2_temp)\n",
        "  return result.reshape(len(result), 1)"
      ],
      "execution_count": 113,
      "outputs": []
    },
    {
      "cell_type": "code",
      "metadata": {
        "id": "M78dUDeYhWG-"
      },
      "source": [
        "X = np.array([[1,1], [0,1], [0,0], [1,0]])"
      ],
      "execution_count": 114,
      "outputs": []
    },
    {
      "cell_type": "code",
      "metadata": {
        "colab": {
          "base_uri": "https://localhost:8080/"
        },
        "id": "lWJBAM0riB6V",
        "outputId": "217f514a-a872-4d1b-9ba3-09daaedd0438"
      },
      "source": [
        "xor_function(X)"
      ],
      "execution_count": 115,
      "outputs": [
        {
          "output_type": "execute_result",
          "data": {
            "text/plain": [
              "array([[0],\n",
              "       [1],\n",
              "       [0],\n",
              "       [1]])"
            ]
          },
          "metadata": {},
          "execution_count": 115
        }
      ]
    },
    {
      "cell_type": "markdown",
      "metadata": {
        "id": "BzDq5KA-qBfb"
      },
      "source": [
        "## Conclusiones\n",
        "\n",
        "- Se obtiene que la función XOR definida es una muestra de cómo la composición de funciones puede generar espacios latentes en donde los datos de entrada son separables linealmente, lo cual a su vez es la base para el aprendizaje profundo."
      ]
    }
  ]
}