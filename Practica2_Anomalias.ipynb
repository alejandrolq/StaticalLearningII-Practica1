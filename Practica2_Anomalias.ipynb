{
  "nbformat": 4,
  "nbformat_minor": 0,
  "metadata": {
    "colab": {
      "name": "Practica2-Anomalias.ipynb",
      "provenance": [],
      "collapsed_sections": [],
      "authorship_tag": "ABX9TyNFwD8Bn1liB0JS4i1n6tf7",
      "include_colab_link": true
    },
    "kernelspec": {
      "name": "python3",
      "display_name": "Python 3"
    },
    "language_info": {
      "name": "python"
    }
  },
  "cells": [
    {
      "cell_type": "markdown",
      "metadata": {
        "id": "view-in-github",
        "colab_type": "text"
      },
      "source": [
        "<a href=\"https://colab.research.google.com/github/alejandrolq/StaticalLearningII-Practicas/blob/main/Practica2_Anomalias.ipynb\" target=\"_parent\"><img src=\"https://colab.research.google.com/assets/colab-badge.svg\" alt=\"Open In Colab\"/></a>"
      ]
    },
    {
      "cell_type": "markdown",
      "metadata": {
        "id": "ju1u2_gjlcnS"
      },
      "source": [
        "**Nombre: José Alejandro López Quel**\n",
        "\n",
        "**Carné: 21001127**\n",
        "\n",
        "**Statical Learning II**\n",
        "\n",
        "**Sección U**\n",
        "\n",
        "**Práctica 2**"
      ]
    },
    {
      "cell_type": "markdown",
      "metadata": {
        "id": "xpSXKaR0S1uK"
      },
      "source": [
        "## Importando librerías necesarias"
      ]
    },
    {
      "cell_type": "code",
      "metadata": {
        "id": "dKs2tuVGi21P"
      },
      "source": [
        "import numpy as np\n",
        "import pandas as pd\n",
        "import matplotlib.pyplot as plt\n",
        "from sklearn.metrics import f1_score\n",
        "from scipy.stats import multivariate_normal\n",
        "from sklearn.model_selection import train_test_split"
      ],
      "execution_count": null,
      "outputs": []
    },
    {
      "cell_type": "markdown",
      "metadata": {
        "id": "0I1sOdySS6GQ"
      },
      "source": [
        "## Detección de Anomalías"
      ]
    },
    {
      "cell_type": "markdown",
      "metadata": {
        "id": "xu-u-6q-TQUt"
      },
      "source": [
        "### Leyendo los datos"
      ]
    },
    {
      "cell_type": "code",
      "metadata": {
        "colab": {
          "base_uri": "https://localhost:8080/",
          "height": 1000
        },
        "id": "MY8EmRhal1Rz",
        "outputId": "5666f49f-d464-4203-ee63-996b31d9fa1b"
      },
      "source": [
        "## Importando datos de estaturas normales\n",
        "df  = pd.read_csv('estaturas_normales.csv', header=None)\n",
        "df"
      ],
      "execution_count": null,
      "outputs": [
        {
          "output_type": "execute_result",
          "data": {
            "text/html": [
              "<div>\n",
              "<style scoped>\n",
              "    .dataframe tbody tr th:only-of-type {\n",
              "        vertical-align: middle;\n",
              "    }\n",
              "\n",
              "    .dataframe tbody tr th {\n",
              "        vertical-align: top;\n",
              "    }\n",
              "\n",
              "    .dataframe thead th {\n",
              "        text-align: right;\n",
              "    }\n",
              "</style>\n",
              "<table border=\"1\" class=\"dataframe\">\n",
              "  <thead>\n",
              "    <tr style=\"text-align: right;\">\n",
              "      <th></th>\n",
              "      <th>0</th>\n",
              "      <th>1</th>\n",
              "    </tr>\n",
              "  </thead>\n",
              "  <tbody>\n",
              "    <tr>\n",
              "      <th>0</th>\n",
              "      <td>1.77</td>\n",
              "      <td>26</td>\n",
              "    </tr>\n",
              "    <tr>\n",
              "      <th>1</th>\n",
              "      <td>1.74</td>\n",
              "      <td>31</td>\n",
              "    </tr>\n",
              "    <tr>\n",
              "      <th>2</th>\n",
              "      <td>1.72</td>\n",
              "      <td>24</td>\n",
              "    </tr>\n",
              "    <tr>\n",
              "      <th>3</th>\n",
              "      <td>1.78</td>\n",
              "      <td>34</td>\n",
              "    </tr>\n",
              "    <tr>\n",
              "      <th>4</th>\n",
              "      <td>1.65</td>\n",
              "      <td>32</td>\n",
              "    </tr>\n",
              "    <tr>\n",
              "      <th>5</th>\n",
              "      <td>1.66</td>\n",
              "      <td>29</td>\n",
              "    </tr>\n",
              "    <tr>\n",
              "      <th>6</th>\n",
              "      <td>1.64</td>\n",
              "      <td>27</td>\n",
              "    </tr>\n",
              "    <tr>\n",
              "      <th>7</th>\n",
              "      <td>1.85</td>\n",
              "      <td>34</td>\n",
              "    </tr>\n",
              "    <tr>\n",
              "      <th>8</th>\n",
              "      <td>1.85</td>\n",
              "      <td>26</td>\n",
              "    </tr>\n",
              "    <tr>\n",
              "      <th>9</th>\n",
              "      <td>1.75</td>\n",
              "      <td>21</td>\n",
              "    </tr>\n",
              "    <tr>\n",
              "      <th>10</th>\n",
              "      <td>1.73</td>\n",
              "      <td>23</td>\n",
              "    </tr>\n",
              "    <tr>\n",
              "      <th>11</th>\n",
              "      <td>1.79</td>\n",
              "      <td>25</td>\n",
              "    </tr>\n",
              "    <tr>\n",
              "      <th>12</th>\n",
              "      <td>1.82</td>\n",
              "      <td>24</td>\n",
              "    </tr>\n",
              "    <tr>\n",
              "      <th>13</th>\n",
              "      <td>1.65</td>\n",
              "      <td>25</td>\n",
              "    </tr>\n",
              "    <tr>\n",
              "      <th>14</th>\n",
              "      <td>1.79</td>\n",
              "      <td>25</td>\n",
              "    </tr>\n",
              "    <tr>\n",
              "      <th>15</th>\n",
              "      <td>1.72</td>\n",
              "      <td>34</td>\n",
              "    </tr>\n",
              "    <tr>\n",
              "      <th>16</th>\n",
              "      <td>1.70</td>\n",
              "      <td>26</td>\n",
              "    </tr>\n",
              "    <tr>\n",
              "      <th>17</th>\n",
              "      <td>1.57</td>\n",
              "      <td>25</td>\n",
              "    </tr>\n",
              "    <tr>\n",
              "      <th>18</th>\n",
              "      <td>1.66</td>\n",
              "      <td>26</td>\n",
              "    </tr>\n",
              "    <tr>\n",
              "      <th>19</th>\n",
              "      <td>1.75</td>\n",
              "      <td>27</td>\n",
              "    </tr>\n",
              "    <tr>\n",
              "      <th>20</th>\n",
              "      <td>1.77</td>\n",
              "      <td>32</td>\n",
              "    </tr>\n",
              "    <tr>\n",
              "      <th>21</th>\n",
              "      <td>1.80</td>\n",
              "      <td>40</td>\n",
              "    </tr>\n",
              "    <tr>\n",
              "      <th>22</th>\n",
              "      <td>1.85</td>\n",
              "      <td>25</td>\n",
              "    </tr>\n",
              "    <tr>\n",
              "      <th>23</th>\n",
              "      <td>1.82</td>\n",
              "      <td>24</td>\n",
              "    </tr>\n",
              "    <tr>\n",
              "      <th>24</th>\n",
              "      <td>1.75</td>\n",
              "      <td>38</td>\n",
              "    </tr>\n",
              "    <tr>\n",
              "      <th>25</th>\n",
              "      <td>1.73</td>\n",
              "      <td>34</td>\n",
              "    </tr>\n",
              "    <tr>\n",
              "      <th>26</th>\n",
              "      <td>1.55</td>\n",
              "      <td>29</td>\n",
              "    </tr>\n",
              "    <tr>\n",
              "      <th>27</th>\n",
              "      <td>1.76</td>\n",
              "      <td>28</td>\n",
              "    </tr>\n",
              "    <tr>\n",
              "      <th>28</th>\n",
              "      <td>1.68</td>\n",
              "      <td>27</td>\n",
              "    </tr>\n",
              "    <tr>\n",
              "      <th>29</th>\n",
              "      <td>1.65</td>\n",
              "      <td>30</td>\n",
              "    </tr>\n",
              "    <tr>\n",
              "      <th>30</th>\n",
              "      <td>1.72</td>\n",
              "      <td>26</td>\n",
              "    </tr>\n",
              "    <tr>\n",
              "      <th>31</th>\n",
              "      <td>1.90</td>\n",
              "      <td>24</td>\n",
              "    </tr>\n",
              "    <tr>\n",
              "      <th>32</th>\n",
              "      <td>1.74</td>\n",
              "      <td>34</td>\n",
              "    </tr>\n",
              "    <tr>\n",
              "      <th>33</th>\n",
              "      <td>1.73</td>\n",
              "      <td>33</td>\n",
              "    </tr>\n",
              "    <tr>\n",
              "      <th>34</th>\n",
              "      <td>1.83</td>\n",
              "      <td>53</td>\n",
              "    </tr>\n",
              "    <tr>\n",
              "      <th>35</th>\n",
              "      <td>1.65</td>\n",
              "      <td>28</td>\n",
              "    </tr>\n",
              "    <tr>\n",
              "      <th>36</th>\n",
              "      <td>1.73</td>\n",
              "      <td>24</td>\n",
              "    </tr>\n",
              "    <tr>\n",
              "      <th>37</th>\n",
              "      <td>1.73</td>\n",
              "      <td>22</td>\n",
              "    </tr>\n",
              "    <tr>\n",
              "      <th>38</th>\n",
              "      <td>1.73</td>\n",
              "      <td>23</td>\n",
              "    </tr>\n",
              "    <tr>\n",
              "      <th>39</th>\n",
              "      <td>1.65</td>\n",
              "      <td>43</td>\n",
              "    </tr>\n",
              "    <tr>\n",
              "      <th>40</th>\n",
              "      <td>1.72</td>\n",
              "      <td>26</td>\n",
              "    </tr>\n",
              "    <tr>\n",
              "      <th>41</th>\n",
              "      <td>1.63</td>\n",
              "      <td>31</td>\n",
              "    </tr>\n",
              "  </tbody>\n",
              "</table>\n",
              "</div>"
            ],
            "text/plain": [
              "       0   1\n",
              "0   1.77  26\n",
              "1   1.74  31\n",
              "2   1.72  24\n",
              "3   1.78  34\n",
              "4   1.65  32\n",
              "5   1.66  29\n",
              "6   1.64  27\n",
              "7   1.85  34\n",
              "8   1.85  26\n",
              "9   1.75  21\n",
              "10  1.73  23\n",
              "11  1.79  25\n",
              "12  1.82  24\n",
              "13  1.65  25\n",
              "14  1.79  25\n",
              "15  1.72  34\n",
              "16  1.70  26\n",
              "17  1.57  25\n",
              "18  1.66  26\n",
              "19  1.75  27\n",
              "20  1.77  32\n",
              "21  1.80  40\n",
              "22  1.85  25\n",
              "23  1.82  24\n",
              "24  1.75  38\n",
              "25  1.73  34\n",
              "26  1.55  29\n",
              "27  1.76  28\n",
              "28  1.68  27\n",
              "29  1.65  30\n",
              "30  1.72  26\n",
              "31  1.90  24\n",
              "32  1.74  34\n",
              "33  1.73  33\n",
              "34  1.83  53\n",
              "35  1.65  28\n",
              "36  1.73  24\n",
              "37  1.73  22\n",
              "38  1.73  23\n",
              "39  1.65  43\n",
              "40  1.72  26\n",
              "41  1.63  31"
            ]
          },
          "metadata": {
            "tags": []
          },
          "execution_count": 111
        }
      ]
    },
    {
      "cell_type": "code",
      "metadata": {
        "colab": {
          "base_uri": "https://localhost:8080/",
          "height": 174
        },
        "id": "R-rzEqu9nYR_",
        "outputId": "c379f4a9-40cc-4af5-8227-f56d781bd76a"
      },
      "source": [
        "## Importando datos de estaturas anomalas\n",
        "anomalias = pd.read_csv('estaturas_anomalias.csv', header=None)\n",
        "anomalias"
      ],
      "execution_count": null,
      "outputs": [
        {
          "output_type": "execute_result",
          "data": {
            "text/html": [
              "<div>\n",
              "<style scoped>\n",
              "    .dataframe tbody tr th:only-of-type {\n",
              "        vertical-align: middle;\n",
              "    }\n",
              "\n",
              "    .dataframe tbody tr th {\n",
              "        vertical-align: top;\n",
              "    }\n",
              "\n",
              "    .dataframe thead th {\n",
              "        text-align: right;\n",
              "    }\n",
              "</style>\n",
              "<table border=\"1\" class=\"dataframe\">\n",
              "  <thead>\n",
              "    <tr style=\"text-align: right;\">\n",
              "      <th></th>\n",
              "      <th>0</th>\n",
              "      <th>1</th>\n",
              "    </tr>\n",
              "  </thead>\n",
              "  <tbody>\n",
              "    <tr>\n",
              "      <th>0</th>\n",
              "      <td>0.25</td>\n",
              "      <td>2.4</td>\n",
              "    </tr>\n",
              "    <tr>\n",
              "      <th>1</th>\n",
              "      <td>175.10</td>\n",
              "      <td>2.5</td>\n",
              "    </tr>\n",
              "    <tr>\n",
              "      <th>2</th>\n",
              "      <td>0.15</td>\n",
              "      <td>250.0</td>\n",
              "    </tr>\n",
              "    <tr>\n",
              "      <th>3</th>\n",
              "      <td>150.00</td>\n",
              "      <td>14.0</td>\n",
              "    </tr>\n",
              "  </tbody>\n",
              "</table>\n",
              "</div>"
            ],
            "text/plain": [
              "        0      1\n",
              "0    0.25    2.4\n",
              "1  175.10    2.5\n",
              "2    0.15  250.0\n",
              "3  150.00   14.0"
            ]
          },
          "metadata": {
            "tags": []
          },
          "execution_count": 112
        }
      ]
    },
    {
      "cell_type": "code",
      "metadata": {
        "colab": {
          "base_uri": "https://localhost:8080/",
          "height": 299
        },
        "id": "wps5E_b5sHhv",
        "outputId": "9aa1c661-2978-4b45-f27e-05acf0a75001"
      },
      "source": [
        "## Importando datos de estaturas normales test\n",
        "test = pd.read_csv('estaturas_valtest.csv', header=None)\n",
        "test"
      ],
      "execution_count": null,
      "outputs": [
        {
          "output_type": "execute_result",
          "data": {
            "text/html": [
              "<div>\n",
              "<style scoped>\n",
              "    .dataframe tbody tr th:only-of-type {\n",
              "        vertical-align: middle;\n",
              "    }\n",
              "\n",
              "    .dataframe tbody tr th {\n",
              "        vertical-align: top;\n",
              "    }\n",
              "\n",
              "    .dataframe thead th {\n",
              "        text-align: right;\n",
              "    }\n",
              "</style>\n",
              "<table border=\"1\" class=\"dataframe\">\n",
              "  <thead>\n",
              "    <tr style=\"text-align: right;\">\n",
              "      <th></th>\n",
              "      <th>0</th>\n",
              "      <th>1</th>\n",
              "    </tr>\n",
              "  </thead>\n",
              "  <tbody>\n",
              "    <tr>\n",
              "      <th>0</th>\n",
              "      <td>1.82</td>\n",
              "      <td>25</td>\n",
              "    </tr>\n",
              "    <tr>\n",
              "      <th>1</th>\n",
              "      <td>1.80</td>\n",
              "      <td>27</td>\n",
              "    </tr>\n",
              "    <tr>\n",
              "      <th>2</th>\n",
              "      <td>1.60</td>\n",
              "      <td>31</td>\n",
              "    </tr>\n",
              "    <tr>\n",
              "      <th>3</th>\n",
              "      <td>1.60</td>\n",
              "      <td>35</td>\n",
              "    </tr>\n",
              "    <tr>\n",
              "      <th>4</th>\n",
              "      <td>1.82</td>\n",
              "      <td>30</td>\n",
              "    </tr>\n",
              "    <tr>\n",
              "      <th>5</th>\n",
              "      <td>1.76</td>\n",
              "      <td>32</td>\n",
              "    </tr>\n",
              "    <tr>\n",
              "      <th>6</th>\n",
              "      <td>1.79</td>\n",
              "      <td>31</td>\n",
              "    </tr>\n",
              "    <tr>\n",
              "      <th>7</th>\n",
              "      <td>1.61</td>\n",
              "      <td>31</td>\n",
              "    </tr>\n",
              "  </tbody>\n",
              "</table>\n",
              "</div>"
            ],
            "text/plain": [
              "      0   1\n",
              "0  1.82  25\n",
              "1  1.80  27\n",
              "2  1.60  31\n",
              "3  1.60  35\n",
              "4  1.82  30\n",
              "5  1.76  32\n",
              "6  1.79  31\n",
              "7  1.61  31"
            ]
          },
          "metadata": {
            "tags": []
          },
          "execution_count": 113
        }
      ]
    },
    {
      "cell_type": "markdown",
      "metadata": {
        "id": "p2PQKIGXTsWc"
      },
      "source": [
        "### Convirtiendo los datos en arreglos de Numpy"
      ]
    },
    {
      "cell_type": "code",
      "metadata": {
        "id": "h1lkyQzmoJYv"
      },
      "source": [
        "df = df.to_numpy()\n",
        "anomalias = anomalias.to_numpy()\n",
        "test = test.to_numpy()"
      ],
      "execution_count": null,
      "outputs": []
    },
    {
      "cell_type": "markdown",
      "metadata": {
        "id": "0w_b1SGnUT5I"
      },
      "source": [
        "### Definición de funciones a utilizar"
      ]
    },
    {
      "cell_type": "code",
      "metadata": {
        "id": "5_oYA0E3oVVf"
      },
      "source": [
        "## Función para obtener los datos de la distribución Gaussiana (media, desviación)\n",
        "def GaussianDist(dataset):\n",
        "  mu = np.mean(dataset, axis=0)\n",
        "  sigma = np.cov(dataset.T)\n",
        "  return mu, sigma"
      ],
      "execution_count": null,
      "outputs": []
    },
    {
      "cell_type": "code",
      "metadata": {
        "id": "Rx1g977WM4Ra"
      },
      "source": [
        "## Función para obtener la densidad de probabilidad (pdf)\n",
        "def multivariateGaussian(dataset, mu, sigma):\n",
        "  dist = multivariate_normal(mu, sigma)\n",
        "  pdf = dist.pdf(dataset)\n",
        "  return pdf"
      ],
      "execution_count": null,
      "outputs": []
    },
    {
      "cell_type": "code",
      "metadata": {
        "id": "1o0o9BkRrUfN"
      },
      "source": [
        "## Función para detectar anomalías\n",
        "def DetectAnomalies(pdf, epsilon):\n",
        "  probabilidades = pdf[pdf < epsilon]\n",
        "  anomalias = np.argwhere(pdf < epsilon)\n",
        "  return probabilidades, anomalias"
      ],
      "execution_count": null,
      "outputs": []
    },
    {
      "cell_type": "code",
      "metadata": {
        "id": "Vi73O8cHsY3q"
      },
      "source": [
        "## Función para seleccionar epsilon\n",
        "def selectThresholdByCV(probabilidades, gt):\n",
        "  best_epsilon = 0\n",
        "  best_f1 = 0\n",
        "  f = 0\n",
        "  stepsize = (max(probabilidades) - min(probabilidades))/1000\n",
        "  epsilons = np.arange(min(probabilidades), max(probabilidades), stepsize)\n",
        "  for epsilon in np.nditer(epsilons):\n",
        "    predicciones = (probabilidades < epsilon)\n",
        "    f = f1_score(gt, list(map(int, predicciones)), average = 'binary')\n",
        "    if f > best_f1:\n",
        "      best_f1 = f\n",
        "      best_epsilon = epsilon\n",
        "  return best_f1, best_epsilon"
      ],
      "execution_count": null,
      "outputs": []
    },
    {
      "cell_type": "markdown",
      "metadata": {
        "id": "oE56GVk6UwFH"
      },
      "source": [
        "### Obteniendo la pdf para los datos de entrenamiento"
      ]
    },
    {
      "cell_type": "code",
      "metadata": {
        "id": "cVJcDfcxrEnN"
      },
      "source": [
        "mu, sigma = GaussianDist(df)"
      ],
      "execution_count": null,
      "outputs": []
    },
    {
      "cell_type": "code",
      "metadata": {
        "colab": {
          "base_uri": "https://localhost:8080/"
        },
        "id": "GkGQ6UApNFSU",
        "outputId": "816b02f6-b5ea-4988-d999-3f65efb9a18b"
      },
      "source": [
        "p = multivariateGaussian(df,mu,sigma)\n",
        "p"
      ],
      "execution_count": null,
      "outputs": [
        {
          "output_type": "execute_result",
          "data": {
            "text/plain": [
              "array([2.57802663e-01, 3.15212566e-01, 2.40695991e-01, 2.02469797e-01,\n",
              "       1.64508317e-01, 2.16025395e-01, 1.58480821e-01, 7.69923850e-02,\n",
              "       8.53276764e-02, 1.39857979e-01, 2.10092298e-01, 1.96810644e-01,\n",
              "       1.17311331e-01, 1.59888368e-01, 1.96810644e-01, 2.37801655e-01,\n",
              "       2.76045627e-01, 3.14585116e-02, 1.96933292e-01, 3.06012351e-01,\n",
              "       2.64374860e-01, 5.09744789e-02, 7.69940627e-02, 1.17311331e-01,\n",
              "       1.16373351e-01, 2.41638811e-01, 2.00484603e-02, 3.05619742e-01,\n",
              "       2.55869237e-01, 1.85543378e-01, 2.94907304e-01, 1.92363359e-02,\n",
              "       2.41368618e-01, 2.71291092e-01, 1.14184400e-04, 1.88829274e-01,\n",
              "       2.41949998e-01, 1.77801822e-01, 2.10092298e-01, 1.35189530e-02,\n",
              "       2.94907304e-01, 1.28934265e-01])"
            ]
          },
          "metadata": {
            "tags": []
          },
          "execution_count": 64
        }
      ]
    },
    {
      "cell_type": "markdown",
      "metadata": {
        "id": "g5KtXzjaU5u0"
      },
      "source": [
        "### Preparación de datos para cross-validation y test"
      ]
    },
    {
      "cell_type": "code",
      "metadata": {
        "id": "NtI5OTIoL107"
      },
      "source": [
        "## Se agrega una columna para identificar los datos si son anomalias (y=1) o \n",
        "## datos normales (y=0)\n",
        "anomalias_l = np.hstack((anomalias,np.ones((anomalias.shape[0],1))))\n",
        "test_l = np.hstack((test,np.zeros((test.shape[0],1))))"
      ],
      "execution_count": null,
      "outputs": []
    },
    {
      "cell_type": "code",
      "metadata": {
        "colab": {
          "base_uri": "https://localhost:8080/"
        },
        "id": "4y2BnurDO21j",
        "outputId": "dd5d88ff-9dbf-4d44-8b36-b45e35992faf"
      },
      "source": [
        "## Se unen los datos \n",
        "m_data = np.vstack((anomalias_l, test_l))\n",
        "m_data"
      ],
      "execution_count": null,
      "outputs": [
        {
          "output_type": "execute_result",
          "data": {
            "text/plain": [
              "array([[2.500e-01, 2.400e+00, 1.000e+00],\n",
              "       [1.751e+02, 2.500e+00, 1.000e+00],\n",
              "       [1.500e-01, 2.500e+02, 1.000e+00],\n",
              "       [1.500e+02, 1.400e+01, 1.000e+00],\n",
              "       [1.820e+00, 2.500e+01, 0.000e+00],\n",
              "       [1.800e+00, 2.700e+01, 0.000e+00],\n",
              "       [1.600e+00, 3.100e+01, 0.000e+00],\n",
              "       [1.600e+00, 3.500e+01, 0.000e+00],\n",
              "       [1.820e+00, 3.000e+01, 0.000e+00],\n",
              "       [1.760e+00, 3.200e+01, 0.000e+00],\n",
              "       [1.790e+00, 3.100e+01, 0.000e+00],\n",
              "       [1.610e+00, 3.100e+01, 0.000e+00]])"
            ]
          },
          "metadata": {
            "tags": []
          },
          "execution_count": 80
        }
      ]
    },
    {
      "cell_type": "code",
      "metadata": {
        "colab": {
          "base_uri": "https://localhost:8080/"
        },
        "id": "UpTekrM4PK-J",
        "outputId": "ff17712a-0d83-421e-d737-0b8be9344659"
      },
      "source": [
        "## Se mezclan los datos\n",
        "np.random.shuffle(m_data)"
      ],
      "execution_count": null,
      "outputs": [
        {
          "output_type": "execute_result",
          "data": {
            "text/plain": [
              "array([[1.600e+00, 3.100e+01, 0.000e+00],\n",
              "       [1.820e+00, 2.500e+01, 0.000e+00],\n",
              "       [2.500e-01, 2.400e+00, 1.000e+00],\n",
              "       [1.820e+00, 3.000e+01, 0.000e+00],\n",
              "       [1.800e+00, 2.700e+01, 0.000e+00],\n",
              "       [1.610e+00, 3.100e+01, 0.000e+00],\n",
              "       [1.751e+02, 2.500e+00, 1.000e+00],\n",
              "       [1.600e+00, 3.500e+01, 0.000e+00],\n",
              "       [1.760e+00, 3.200e+01, 0.000e+00],\n",
              "       [1.500e-01, 2.500e+02, 1.000e+00],\n",
              "       [1.500e+02, 1.400e+01, 1.000e+00],\n",
              "       [1.790e+00, 3.100e+01, 0.000e+00]])"
            ]
          },
          "metadata": {
            "tags": []
          },
          "execution_count": 87
        }
      ]
    },
    {
      "cell_type": "code",
      "metadata": {
        "colab": {
          "base_uri": "https://localhost:8080/"
        },
        "id": "qQlaaGFcPfmB",
        "outputId": "344869ae-b76d-4b29-b3f5-97ccc1ffeb71"
      },
      "source": [
        "## Se dividen los datos para cross-validation\n",
        "half = int(m_data.shape[0]/2)\n",
        "cv_data = m_data[:half, :]\n",
        "cv_data"
      ],
      "execution_count": null,
      "outputs": [
        {
          "output_type": "execute_result",
          "data": {
            "text/plain": [
              "array([[ 1.6 , 31.  ,  0.  ],\n",
              "       [ 1.82, 25.  ,  0.  ],\n",
              "       [ 0.25,  2.4 ,  1.  ],\n",
              "       [ 1.82, 30.  ,  0.  ],\n",
              "       [ 1.8 , 27.  ,  0.  ],\n",
              "       [ 1.61, 31.  ,  0.  ]])"
            ]
          },
          "metadata": {
            "tags": []
          },
          "execution_count": 99
        }
      ]
    },
    {
      "cell_type": "code",
      "metadata": {
        "colab": {
          "base_uri": "https://localhost:8080/"
        },
        "id": "UD7LSyYaQKy5",
        "outputId": "1b16e265-0842-422f-fe0e-1ff889613fa9"
      },
      "source": [
        "## Se dividen los datos para test\n",
        "test_data = m_data[half:, :]\n",
        "test_data"
      ],
      "execution_count": null,
      "outputs": [
        {
          "output_type": "execute_result",
          "data": {
            "text/plain": [
              "array([[1.751e+02, 2.500e+00, 1.000e+00],\n",
              "       [1.600e+00, 3.500e+01, 0.000e+00],\n",
              "       [1.760e+00, 3.200e+01, 0.000e+00],\n",
              "       [1.500e-01, 2.500e+02, 1.000e+00],\n",
              "       [1.500e+02, 1.400e+01, 1.000e+00],\n",
              "       [1.790e+00, 3.100e+01, 0.000e+00]])"
            ]
          },
          "metadata": {
            "tags": []
          },
          "execution_count": 97
        }
      ]
    },
    {
      "cell_type": "markdown",
      "metadata": {
        "id": "dGh6UOhTWMuO"
      },
      "source": [
        "### Empleando cross-validation para obtener epsilon"
      ]
    },
    {
      "cell_type": "code",
      "metadata": {
        "colab": {
          "base_uri": "https://localhost:8080/"
        },
        "id": "Pzi0RALfQ0aH",
        "outputId": "b2a69607-93e3-4cc9-a9e6-86ce183fbcb0"
      },
      "source": [
        "p_cv = multivariateGaussian(cv_data[:,:1],mu,sigma)\n",
        "fscore, ep = selectThresholdByCV(p_cv,cv_data[:,2])\n",
        "print(fscore, ep)"
      ],
      "execution_count": null,
      "outputs": [
        {
          "output_type": "stream",
          "text": [
            "1.0 1.353006213184104e-08\n"
          ],
          "name": "stdout"
        }
      ]
    },
    {
      "cell_type": "markdown",
      "metadata": {
        "id": "DtjEfJA2WVuA"
      },
      "source": [
        "### Utilizando los datos de test para encontrar anomalías"
      ]
    },
    {
      "cell_type": "code",
      "metadata": {
        "colab": {
          "base_uri": "https://localhost:8080/"
        },
        "id": "QfrGayVsRRmQ",
        "outputId": "337cb1bd-ed31-4b99-852b-76cc241dd87d"
      },
      "source": [
        "p_test = multivariateGaussian(test_data[:,:1],mu,sigma)\n",
        "probabilidades, anomalias = DetectAnomalies(p_test, ep)\n",
        "print(anomalias)"
      ],
      "execution_count": null,
      "outputs": [
        {
          "output_type": "stream",
          "text": [
            "[[0]\n",
            " [3]\n",
            " [4]]\n"
          ],
          "name": "stdout"
        }
      ]
    },
    {
      "cell_type": "markdown",
      "metadata": {
        "id": "1MzNPKBmWcMG"
      },
      "source": [
        "### Comparando datos obtenidos con los datos de anomalías"
      ]
    },
    {
      "cell_type": "code",
      "metadata": {
        "colab": {
          "base_uri": "https://localhost:8080/"
        },
        "id": "SatKj08VSbl-",
        "outputId": "e8d53f90-5454-4f37-a2f3-330dd5f5e6b2"
      },
      "source": [
        "np.argwhere(test_data[:,2] == 1)"
      ],
      "execution_count": null,
      "outputs": [
        {
          "output_type": "execute_result",
          "data": {
            "text/plain": [
              "array([[0],\n",
              "       [3],\n",
              "       [4]])"
            ]
          },
          "metadata": {
            "tags": []
          },
          "execution_count": 109
        }
      ]
    },
    {
      "cell_type": "code",
      "metadata": {
        "colab": {
          "base_uri": "https://localhost:8080/"
        },
        "id": "GO0YRKGfXdTq",
        "outputId": "d9b217ae-3068-4285-8d61-ef510983c390"
      },
      "source": [
        "predicciones_test = (p_test < ep)\n",
        "predicciones_test\n",
        "f1_score(test_data[:,2], list(map(int, predicciones_test)), average = 'binary')"
      ],
      "execution_count": null,
      "outputs": [
        {
          "output_type": "execute_result",
          "data": {
            "text/plain": [
              "1.0"
            ]
          },
          "metadata": {
            "tags": []
          },
          "execution_count": 122
        }
      ]
    },
    {
      "cell_type": "code",
      "metadata": {
        "id": "OJciF4hVZWqm"
      },
      "source": [
        "anomalias_p = np.asarray(np.where(p_test < ep))"
      ],
      "execution_count": null,
      "outputs": []
    },
    {
      "cell_type": "code",
      "metadata": {
        "colab": {
          "base_uri": "https://localhost:8080/",
          "height": 279
        },
        "id": "V6KtChLzZK3w",
        "outputId": "46751288-36c6-41c7-f9aa-4cd12ccdce6c"
      },
      "source": [
        "plt.figure()\n",
        "plt.xlabel('Altura (m)')\n",
        "plt.ylabel('Edad (años)')\n",
        "plt.plot(test_data[:,0],test_data[:,1],'bx')\n",
        "plt.plot(test_data[anomalias_p,0],test_data[anomalias_p,1],'ro')\n",
        "plt.show()"
      ],
      "execution_count": null,
      "outputs": [
        {
          "output_type": "display_data",
          "data": {
            "image/png": "[encoded data removed]",
            "text/plain": [
              "<Figure size 432x288 with 1 Axes>"
            ]
          },
          "metadata": {
            "tags": [],
            "needs_background": "light"
          }
        }
      ]
    },
    {
      "cell_type": "markdown",
      "metadata": {
        "id": "oJrKHnX2XIC4"
      },
      "source": [
        "## Conclusiones\n",
        "\n",
        "- Se determinó que despúes de realizar las pruebas en los datasets correspondientes, utilizando un modelo de detección de anomalías de distribución gausiana multivariable, que emplear un epsilon de 1.353006213184104e-08 como umbral para la detección de anomalías en este modelo obtiene un buen rendimiento.\n",
        "- Con el epsilon antes mencionado se obtiene un f_score de 1.\n",
        "- Se observa en la gráfica de los datos de prueba comparada con las anomalías encontradas que existe una diferencia significativa."
      ]
    }
  ]
}