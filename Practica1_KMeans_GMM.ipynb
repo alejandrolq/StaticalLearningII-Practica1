{
  "nbformat": 4,
  "nbformat_minor": 0,
  "metadata": {
    "colab": {
      "name": "Practica1-KMeans_GMM.ipynb",
      "provenance": [],
      "authorship_tag": "ABX9TyPIIIQ7UUkUJSMDvGrHmoBp",
      "include_colab_link": true
    },
    "kernelspec": {
      "name": "python3",
      "display_name": "Python 3"
    },
    "language_info": {
      "name": "python"
    }
  },
  "cells": [
    {
      "cell_type": "markdown",
      "metadata": {
        "id": "view-in-github",
        "colab_type": "text"
      },
      "source": [
        "<a href=\"https://colab.research.google.com/github/alejandrolq/StaticalLearningII-Practica1/blob/main/Practica1_KMeans_GMM.ipynb\" target=\"_parent\"><img src=\"https://colab.research.google.com/assets/colab-badge.svg\" alt=\"Open In Colab\"/></a>"
      ]
    },
    {
      "cell_type": "markdown",
      "metadata": {
        "id": "t9UkJO6jB7hs"
      },
      "source": [
        "**Nombre: José Alejandro López Quel**\n",
        "\n",
        "**Carné: 21001127**\n",
        "\n",
        "**Statical Learning II**\n",
        "\n",
        "**Sección U**\n",
        "\n",
        "**Práctica 1**"
      ]
    },
    {
      "cell_type": "markdown",
      "metadata": {
        "id": "dXFNBO6mxmmK"
      },
      "source": [
        "## Importando librías necesarias"
      ]
    },
    {
      "cell_type": "code",
      "metadata": {
        "id": "JgpS24IIBkjl"
      },
      "source": [
        "import datetime\n",
        "import numpy as np\n",
        "import pandas as pd\n",
        "import seaborn as sns; sns.set()\n",
        "import matplotlib.pyplot as plt\n",
        "from sklearn import mixture\n",
        "from sklearn.cluster import KMeans\n",
        "from matplotlib.colors import LogNorm"
      ],
      "execution_count": 1,
      "outputs": []
    },
    {
      "cell_type": "markdown",
      "metadata": {
        "id": "DJbywgLuxp6t"
      },
      "source": [
        "## Leyendo datos de estaturas normales"
      ]
    },
    {
      "cell_type": "code",
      "metadata": {
        "colab": {
          "base_uri": "https://localhost:8080/"
        },
        "id": "5gbhhjpeDGFw",
        "outputId": "9c4a8054-9a9b-4794-ed3b-4eba4e96896a"
      },
      "source": [
        "df = pd.read_csv('estaturas_normales.csv', sep=',',header=None)\n",
        "datos = df.to_numpy()\n",
        "datos"
      ],
      "execution_count": 3,
      "outputs": [
        {
          "output_type": "execute_result",
          "data": {
            "text/plain": [
              "array([[ 1.77, 26.  ],\n",
              "       [ 1.74, 31.  ],\n",
              "       [ 1.72, 24.  ],\n",
              "       [ 1.78, 34.  ],\n",
              "       [ 1.65, 32.  ],\n",
              "       [ 1.66, 29.  ],\n",
              "       [ 1.64, 27.  ],\n",
              "       [ 1.85, 34.  ],\n",
              "       [ 1.85, 26.  ],\n",
              "       [ 1.75, 21.  ],\n",
              "       [ 1.73, 23.  ],\n",
              "       [ 1.79, 25.  ],\n",
              "       [ 1.82, 24.  ],\n",
              "       [ 1.65, 25.  ],\n",
              "       [ 1.79, 25.  ],\n",
              "       [ 1.72, 34.  ],\n",
              "       [ 1.7 , 26.  ],\n",
              "       [ 1.57, 25.  ],\n",
              "       [ 1.66, 26.  ],\n",
              "       [ 1.75, 27.  ],\n",
              "       [ 1.77, 32.  ],\n",
              "       [ 1.8 , 40.  ],\n",
              "       [ 1.85, 25.  ],\n",
              "       [ 1.82, 24.  ],\n",
              "       [ 1.75, 38.  ],\n",
              "       [ 1.73, 34.  ],\n",
              "       [ 1.55, 29.  ],\n",
              "       [ 1.76, 28.  ],\n",
              "       [ 1.68, 27.  ],\n",
              "       [ 1.65, 30.  ],\n",
              "       [ 1.72, 26.  ],\n",
              "       [ 1.9 , 24.  ],\n",
              "       [ 1.74, 34.  ],\n",
              "       [ 1.73, 33.  ],\n",
              "       [ 1.83, 53.  ],\n",
              "       [ 1.65, 28.  ],\n",
              "       [ 1.73, 24.  ],\n",
              "       [ 1.73, 22.  ],\n",
              "       [ 1.73, 23.  ],\n",
              "       [ 1.65, 43.  ],\n",
              "       [ 1.72, 26.  ],\n",
              "       [ 1.63, 31.  ]])"
            ]
          },
          "metadata": {
            "tags": []
          },
          "execution_count": 3
        }
      ]
    },
    {
      "cell_type": "markdown",
      "metadata": {
        "id": "VRyENV0mxtqC"
      },
      "source": [
        "## Graficando datos"
      ]
    },
    {
      "cell_type": "code",
      "metadata": {
        "colab": {
          "base_uri": "https://localhost:8080/",
          "height": 268
        },
        "id": "b7PM3-6BD3Co",
        "outputId": "099c47b5-aa05-4dde-bf2f-76589871458c"
      },
      "source": [
        "plt.scatter(datos[:,0], datos[:,1], s=30)\n",
        "plt.show()"
      ],
      "execution_count": 3,
      "outputs": [
        {
          "output_type": "display_data",
          "data": {
            "image/png": "[encoded data removed]",
            "text/plain": [
              "<Figure size 432x288 with 1 Axes>"
            ]
          },
          "metadata": {
            "tags": [],
            "needs_background": "light"
          }
        }
      ]
    },
    {
      "cell_type": "markdown",
      "metadata": {
        "id": "WlCB-HASxv55"
      },
      "source": [
        "## Definiendo la clase para la implementación de K - Means"
      ]
    },
    {
      "cell_type": "code",
      "metadata": {
        "id": "dPsqXPOp8oHT"
      },
      "source": [
        "class K_means:\n",
        "  def __init__(self, k=2, tol=0.001, max_iter=300):\n",
        "    self.k = k\n",
        "    self.tol = tol\n",
        "    self.max_iter = max_iter\n",
        "    self.inertia = 0\n",
        "\n",
        "  def fit(self, data):\n",
        "    # Reordenando de forma aleatoria los datos\n",
        "    indx=np.arange(len(data))\n",
        "    np.random.shuffle(indx)\n",
        "    data = data[indx]\n",
        "\n",
        "    # Creando un diccionario vacío para almacenar los centroides\n",
        "    self.centroids = {}\n",
        "\n",
        "    # Se seleccciona k puntos que pertenecen al dataset como centroides para la clasificación\n",
        "    for k_i in range(self.k):\n",
        "      self.centroids[k_i] = data[k_i]\n",
        "\n",
        "    # Iteración para clasificar los datos\n",
        "    for iteration in range(self.max_iter):\n",
        "      # Se crea un diccionario para clasificar los datos  \n",
        "      self.classifications = {}\n",
        "      self.inertia = 0\n",
        "\n",
        "      # Se crea los k grupos para la clasificación\n",
        "      for k_i in range(self.k):\n",
        "        self.classifications[k_i] = []\n",
        "\n",
        "      # Se itera sobre la lista de datos\n",
        "      for row in data:\n",
        "        # Se declara una lista que contendra las distancias calculadas\n",
        "        distances = []\n",
        "\n",
        "        # Se itera para los k centroides\n",
        "        for centroid in self.centroids:\n",
        "          # Se agrega la distancia a la lista distances calculadas con norm \n",
        "          norm = np.linalg.norm(row-self.centroids[centroid])\n",
        "          distances.append(norm)\n",
        "          # Se obtiene el indice de la distancia minima hacia los centroides\n",
        "          # y se almacena los datos en el diccionario en la clasificacion que \n",
        "          # corresponde\n",
        "          classification = distances.index(min(distances))\n",
        "          ## Se calcula la inercia para cada dato y los centroides\n",
        "          self.inertia += min(distances)**2\n",
        "          self.classifications[classification].append(row)\n",
        "      \n",
        "      # Se guarda el dato de los centroides anteriores\n",
        "      prev_centroids = dict(self.centroids)\n",
        "\n",
        "      # Para cada k se calcula de nuevo el centroide realizando el promedio de \n",
        "      # los datos clasificados\n",
        "      for classification in self.classifications:\n",
        "        self.centroids[classification] = np.average(self.classifications[classification],axis=0)\n",
        "      \n",
        "      # Se calcula para cada centroide el valor de tolerancia para la convergencia\n",
        "      for centroid in self.centroids:\n",
        "        init_centroid = prev_centroids[centroid]\n",
        "        curr_centroid = self.centroids[centroid]\n",
        "        tolerance = np.sum((abs((curr_centroid - init_centroid))/init_centroid)*100.0)\n",
        "        if tolerance > self.tol:\n",
        "          flag = False\n",
        "        else:\n",
        "          flag = True\n",
        "      \n",
        "      if flag:\n",
        "        print(iteration, tolerance)\n",
        "        break\n",
        "    print(self.centroids)  \n",
        "  \n",
        "  def predict(self, data):\n",
        "    classes = []\n",
        "    for row in data:\n",
        "      distances = []\n",
        "      for centroid in self.centroids:\n",
        "        norm = np.linalg.norm(row-self.centroids[centroid])\n",
        "        distances.append(norm)\n",
        "      classification = distances.index(min(distances))\n",
        "      classes.append([classification])\n",
        "    return np.array(classes)"
      ],
      "execution_count": 4,
      "outputs": []
    },
    {
      "cell_type": "code",
      "metadata": {
        "id": "wbWsDIAW0o8N"
      },
      "source": [
        "def plot_model(model):\n",
        "  for centroid in model.centroids:\n",
        "    plt.scatter(model.centroids[centroid][0], model.centroids[centroid][1],\n",
        "                marker=\"o\", color=\"k\", s=50, linewidths=5)\n",
        "  colors = ['red', 'blue', 'green', 'yellow', 'black', 'violet']\n",
        "\n",
        "  for classification in model.classifications:\n",
        "      color = colors[classification]\n",
        "      for featureset in model.classifications[classification]:\n",
        "          plt.scatter(featureset[0], featureset[1], marker=\"x\", color=color, s=50, linewidths=5)\n",
        "          \n",
        "  plt.show()"
      ],
      "execution_count": 5,
      "outputs": []
    },
    {
      "cell_type": "markdown",
      "metadata": {
        "id": "MeX1gXb0y3fT"
      },
      "source": [
        "### Experimentos para determinar K"
      ]
    },
    {
      "cell_type": "markdown",
      "metadata": {
        "id": "__c0Pc0_y92l"
      },
      "source": [
        "#### Experimento 1: K=2"
      ]
    },
    {
      "cell_type": "code",
      "metadata": {
        "colab": {
          "base_uri": "https://localhost:8080/"
        },
        "id": "aLIYVmZI-WPT",
        "outputId": "0d1a31ee-eca1-465f-a3bb-a972279e88ca"
      },
      "source": [
        "model = K_means(k=2)\n",
        "model.fit(datos)"
      ],
      "execution_count": 6,
      "outputs": [
        {
          "output_type": "stream",
          "text": [
            "4 0.0\n",
            "{0: array([ 1.72704918, 30.57377049]), 1: array([ 1.74217391, 24.82608696])}\n"
          ],
          "name": "stdout"
        }
      ]
    },
    {
      "cell_type": "code",
      "metadata": {
        "colab": {
          "base_uri": "https://localhost:8080/",
          "height": 268
        },
        "id": "hXS25efm0yr0",
        "outputId": "43269338-7875-4daa-c5a3-b75e3ed41baf"
      },
      "source": [
        "plot_model(model)"
      ],
      "execution_count": 7,
      "outputs": [
        {
          "output_type": "display_data",
          "data": {
            "image/png": "[encoded data removed]",
            "text/plain": [
              "<Figure size 432x288 with 1 Axes>"
            ]
          },
          "metadata": {
            "tags": [],
            "needs_background": "light"
          }
        }
      ]
    },
    {
      "cell_type": "markdown",
      "metadata": {
        "id": "hjHfkHESzIir"
      },
      "source": [
        "#### Expermiento 2: K=3"
      ]
    },
    {
      "cell_type": "code",
      "metadata": {
        "colab": {
          "base_uri": "https://localhost:8080/"
        },
        "id": "ID47MNyEzPMP",
        "outputId": "8fb0c5cc-535e-4a58-bea3-a4f315b0b965"
      },
      "source": [
        "model = K_means(k=3)\n",
        "model.fit(datos)"
      ],
      "execution_count": 6,
      "outputs": [
        {
          "output_type": "stream",
          "text": [
            "2 0.0\n",
            "{0: array([ 1.72109756, 27.82926829]), 1: array([ 1.75, 36.75]), 2: array([ 1.75, 24.5 ])}\n"
          ],
          "name": "stdout"
        }
      ]
    },
    {
      "cell_type": "code",
      "metadata": {
        "colab": {
          "base_uri": "https://localhost:8080/",
          "height": 268
        },
        "id": "2FFJOU1FzUTI",
        "outputId": "04f439f0-a4b5-4e5d-cf63-b15f834542dc"
      },
      "source": [
        "plot_model(model)"
      ],
      "execution_count": 7,
      "outputs": [
        {
          "output_type": "display_data",
          "data": {
            "image/png": "[encoded data removed]",
            "text/plain": [
              "<Figure size 432x288 with 1 Axes>"
            ]
          },
          "metadata": {
            "tags": [],
            "needs_background": "light"
          }
        }
      ]
    },
    {
      "cell_type": "markdown",
      "metadata": {
        "id": "Xa2p9cvbzmUY"
      },
      "source": [
        "#### Expermiento 3: K=4 Tolerance 0.001"
      ]
    },
    {
      "cell_type": "code",
      "metadata": {
        "colab": {
          "base_uri": "https://localhost:8080/"
        },
        "id": "z4NCSm3azpes",
        "outputId": "54291e07-a7c6-4343-99e4-9cbfdaa19184"
      },
      "source": [
        "model = K_means(k=4)\n",
        "model.fit(datos)"
      ],
      "execution_count": 10,
      "outputs": [
        {
          "output_type": "stream",
          "text": [
            "4 0.0\n",
            "{0: array([ 1.73395349, 32.40697674]), 1: array([ 1.72357143, 25.75      ]), 2: array([ 1.77      , 23.22222222]), 3: array([ 1.6675, 28.125 ])}\n"
          ],
          "name": "stdout"
        }
      ]
    },
    {
      "cell_type": "code",
      "metadata": {
        "colab": {
          "base_uri": "https://localhost:8080/",
          "height": 268
        },
        "id": "8Qesm-pOzswD",
        "outputId": "247b3c0c-bccb-46ed-eb5e-dd6e78289bf0"
      },
      "source": [
        "plot_model(model)"
      ],
      "execution_count": 11,
      "outputs": [
        {
          "output_type": "display_data",
          "data": {
            "image/png": "[encoded data removed]",
            "text/plain": [
              "<Figure size 432x288 with 1 Axes>"
            ]
          },
          "metadata": {
            "tags": [],
            "needs_background": "light"
          }
        }
      ]
    },
    {
      "cell_type": "markdown",
      "metadata": {
        "id": "T0zpLv0Rz9bw"
      },
      "source": [
        "#### Expermiento 4: K=5"
      ]
    },
    {
      "cell_type": "code",
      "metadata": {
        "colab": {
          "base_uri": "https://localhost:8080/"
        },
        "id": "BKStpipB0CCS",
        "outputId": "dd4e76c8-97ef-4b86-d555-6266d74eb36e"
      },
      "source": [
        "model = K_means(k=5)\n",
        "model.fit(datos)"
      ],
      "execution_count": 12,
      "outputs": [
        {
          "output_type": "stream",
          "text": [
            "3 0.0\n",
            "{0: array([ 1.73412371, 32.51546392]), 1: array([ 1.72232877, 25.82191781]), 2: array([ 1.77      , 23.22222222]), 3: array([ 1.654, 28.8  ]), 4: array([ 1.76      , 45.33333333])}\n"
          ],
          "name": "stdout"
        }
      ]
    },
    {
      "cell_type": "code",
      "metadata": {
        "colab": {
          "base_uri": "https://localhost:8080/",
          "height": 268
        },
        "id": "IyMD-P300HBp",
        "outputId": "2ef65c94-6773-4d83-96b0-40a997c4e348"
      },
      "source": [
        "plot_model(model)"
      ],
      "execution_count": 13,
      "outputs": [
        {
          "output_type": "display_data",
          "data": {
            "image/png": "[encoded data removed]",
            "text/plain": [
              "<Figure size 432x288 with 1 Axes>"
            ]
          },
          "metadata": {
            "tags": [],
            "needs_background": "light"
          }
        }
      ]
    },
    {
      "cell_type": "markdown",
      "metadata": {
        "id": "W--0qGO20PP8"
      },
      "source": [
        "#### Expermiento 5: K=5"
      ]
    },
    {
      "cell_type": "code",
      "metadata": {
        "colab": {
          "base_uri": "https://localhost:8080/"
        },
        "id": "U2YOVYM30RJM",
        "outputId": "5178507b-cf10-4786-b8b2-a0f62b7747bb"
      },
      "source": [
        "model = K_means(k=6)\n",
        "model.fit(datos)"
      ],
      "execution_count": 14,
      "outputs": [
        {
          "output_type": "stream",
          "text": [
            "3 0.0\n",
            "{0: array([ 1.72483221, 26.67785235]), 1: array([ 1.72847458, 33.37288136]), 2: array([ 1.768, 40.8  ]), 3: array([ 1.74, 48.  ]), 4: array([ 1.75916667, 24.125     ]), 5: array([ 1.735, 22.25 ])}\n"
          ],
          "name": "stdout"
        }
      ]
    },
    {
      "cell_type": "code",
      "metadata": {
        "colab": {
          "base_uri": "https://localhost:8080/",
          "height": 268
        },
        "id": "0ot637JS0W7r",
        "outputId": "ed858b73-90fb-4c90-9e5d-8b3914564d4f"
      },
      "source": [
        "plot_model(model)"
      ],
      "execution_count": 15,
      "outputs": [
        {
          "output_type": "display_data",
          "data": {
            "image/png": "[encoded data removed]",
            "text/plain": [
              "<Figure size 432x288 with 1 Axes>"
            ]
          },
          "metadata": {
            "tags": [],
            "needs_background": "light"
          }
        }
      ]
    },
    {
      "cell_type": "markdown",
      "metadata": {
        "id": "4f-jkpP0yaqg"
      },
      "source": [
        "### Comparando resultados de clase creada de KMeans vs KMeans utilizando Sklearn"
      ]
    },
    {
      "cell_type": "code",
      "metadata": {
        "id": "uXABgqOHYcFf"
      },
      "source": [
        "kmeans = KMeans(n_clusters=2, random_state=0).fit(datos)\n",
        "y_kmeans = kmeans.predict(datos)"
      ],
      "execution_count": 16,
      "outputs": []
    },
    {
      "cell_type": "code",
      "metadata": {
        "colab": {
          "base_uri": "https://localhost:8080/",
          "height": 268
        },
        "id": "dodHrlFJZdvK",
        "outputId": "b8e6f028-960c-424e-aeae-7e4dda873bd4"
      },
      "source": [
        "plt.scatter(datos[:, 0], datos[:, 1], c=y_kmeans, s=50, cmap='viridis')\n",
        "centers = kmeans.cluster_centers_\n",
        "plt.scatter(centers[:, 0], centers[:, 1], c='black', s=200, alpha=0.5);"
      ],
      "execution_count": 17,
      "outputs": [
        {
          "output_type": "display_data",
          "data": {
            "image/png": "[encoded data removed]",
            "text/plain": [
              "<Figure size 432x288 with 1 Axes>"
            ]
          },
          "metadata": {
            "tags": [],
            "needs_background": "light"
          }
        }
      ]
    },
    {
      "cell_type": "markdown",
      "metadata": {
        "id": "LStaDMaXyj3g"
      },
      "source": [
        "## Implementando GMM utilizando Sklearn"
      ]
    },
    {
      "cell_type": "code",
      "metadata": {
        "colab": {
          "base_uri": "https://localhost:8080/",
          "height": 285
        },
        "id": "1KfFS2OzjCQo",
        "outputId": "1bd941a3-8cb8-4ce2-993f-7cd45eb40dce"
      },
      "source": [
        "gmm = mixture.GaussianMixture(n_components=2, covariance_type='full')\n",
        "gmm.fit(datos)\n",
        "labels = gmm.predict(datos)\n",
        "plt.scatter(datos[:, 0], datos[:, 1], c=labels, s=40, cmap='viridis')"
      ],
      "execution_count": 8,
      "outputs": [
        {
          "output_type": "execute_result",
          "data": {
            "text/plain": [
              "<matplotlib.collections.PathCollection at 0x7f45ca133c10>"
            ]
          },
          "metadata": {
            "tags": []
          },
          "execution_count": 8
        },
        {
          "output_type": "display_data",
          "data": {
            "image/png": "[encoded data removed]",
            "text/plain": [
              "<Figure size 432x288 with 1 Axes>"
            ]
          },
          "metadata": {
            "tags": [],
            "needs_background": "light"
          }
        }
      ]
    },
    {
      "cell_type": "markdown",
      "metadata": {
        "id": "ncdD2ERf2kfs"
      },
      "source": [
        "### Experimentos para determinar K"
      ]
    },
    {
      "cell_type": "markdown",
      "metadata": {
        "id": "aypZkDtG2pMJ"
      },
      "source": [
        "#### Experimento 1: K=2"
      ]
    },
    {
      "cell_type": "code",
      "metadata": {
        "colab": {
          "base_uri": "https://localhost:8080/",
          "height": 285
        },
        "id": "FJimkQxt2kLK",
        "outputId": "791777f6-2b72-49d8-cb93-6a9c2bd9ef68"
      },
      "source": [
        "gmm = mixture.GaussianMixture(n_components=2, covariance_type='full')\n",
        "gmm.fit(datos)\n",
        "labels = gmm.predict(datos)\n",
        "plt.scatter(datos[:, 0], datos[:, 1], c=labels, s=40, cmap='viridis')"
      ],
      "execution_count": 27,
      "outputs": [
        {
          "output_type": "execute_result",
          "data": {
            "text/plain": [
              "<matplotlib.collections.PathCollection at 0x7f4f8fc71ed0>"
            ]
          },
          "metadata": {
            "tags": []
          },
          "execution_count": 27
        },
        {
          "output_type": "display_data",
          "data": {
            "image/png": "[encoded data removed]",
            "text/plain": [
              "<Figure size 432x288 with 1 Axes>"
            ]
          },
          "metadata": {
            "tags": [],
            "needs_background": "light"
          }
        }
      ]
    },
    {
      "cell_type": "markdown",
      "metadata": {
        "id": "j_OQTupM2ubj"
      },
      "source": [
        "#### Experimento 2: K=3"
      ]
    },
    {
      "cell_type": "code",
      "metadata": {
        "colab": {
          "base_uri": "https://localhost:8080/",
          "height": 285
        },
        "id": "JgAa7RSk2y-u",
        "outputId": "5d652bae-b032-47a2-eb18-bc7cf64fbd27"
      },
      "source": [
        "gmm = mixture.GaussianMixture(n_components=3, covariance_type='full')\n",
        "gmm.fit(datos)\n",
        "labels = gmm.predict(datos)\n",
        "plt.scatter(datos[:, 0], datos[:, 1], c=labels, s=40, cmap='viridis')"
      ],
      "execution_count": 9,
      "outputs": [
        {
          "output_type": "execute_result",
          "data": {
            "text/plain": [
              "<matplotlib.collections.PathCollection at 0x7f45ca3d42d0>"
            ]
          },
          "metadata": {
            "tags": []
          },
          "execution_count": 9
        },
        {
          "output_type": "display_data",
          "data": {
            "image/png": "[encoded data removed]",
            "text/plain": [
              "<Figure size 432x288 with 1 Axes>"
            ]
          },
          "metadata": {
            "tags": [],
            "needs_background": "light"
          }
        }
      ]
    },
    {
      "cell_type": "markdown",
      "metadata": {
        "id": "6Ob0MSre4gic"
      },
      "source": [
        "#### Experimento 3: K=4"
      ]
    },
    {
      "cell_type": "code",
      "metadata": {
        "colab": {
          "base_uri": "https://localhost:8080/",
          "height": 285
        },
        "id": "mLT5HVoK4jUL",
        "outputId": "bb82a25f-ed23-4b66-a589-e05376b336ee"
      },
      "source": [
        "gmm = mixture.GaussianMixture(n_components=4, covariance_type='full')\n",
        "gmm.fit(datos)\n",
        "labels = gmm.predict(datos)\n",
        "plt.scatter(datos[:, 0], datos[:, 1], c=labels, s=40, cmap='viridis')"
      ],
      "execution_count": 21,
      "outputs": [
        {
          "output_type": "execute_result",
          "data": {
            "text/plain": [
              "<matplotlib.collections.PathCollection at 0x7f4f8fb39d90>"
            ]
          },
          "metadata": {
            "tags": []
          },
          "execution_count": 21
        },
        {
          "output_type": "display_data",
          "data": {
            "image/png": "[encoded data removed]",
            "text/plain": [
              "<Figure size 432x288 with 1 Axes>"
            ]
          },
          "metadata": {
            "tags": [],
            "needs_background": "light"
          }
        }
      ]
    },
    {
      "cell_type": "markdown",
      "metadata": {
        "id": "Fs1XESoC4mt5"
      },
      "source": [
        "#### Experimento 4: K=5"
      ]
    },
    {
      "cell_type": "code",
      "metadata": {
        "colab": {
          "base_uri": "https://localhost:8080/",
          "height": 285
        },
        "id": "fUX0bUFx4pMk",
        "outputId": "9591b25c-d3fb-4b90-fe27-4f7cf353f028"
      },
      "source": [
        "gmm = mixture.GaussianMixture(n_components=5, covariance_type='full')\n",
        "gmm.fit(datos)\n",
        "labels = gmm.predict(datos)\n",
        "plt.scatter(datos[:, 0], datos[:, 1], c=labels, s=40, cmap='viridis')"
      ],
      "execution_count": 22,
      "outputs": [
        {
          "output_type": "execute_result",
          "data": {
            "text/plain": [
              "<matplotlib.collections.PathCollection at 0x7f4f8fc4b1d0>"
            ]
          },
          "metadata": {
            "tags": []
          },
          "execution_count": 22
        },
        {
          "output_type": "display_data",
          "data": {
            "image/png": "[encoded data removed]",
            "text/plain": [
              "<Figure size 432x288 with 1 Axes>"
            ]
          },
          "metadata": {
            "tags": [],
            "needs_background": "light"
          }
        }
      ]
    },
    {
      "cell_type": "markdown",
      "metadata": {
        "id": "znj9T_IR4sek"
      },
      "source": [
        "#### Experimento 5: K=6"
      ]
    },
    {
      "cell_type": "code",
      "metadata": {
        "colab": {
          "base_uri": "https://localhost:8080/",
          "height": 285
        },
        "id": "7t0cI3m34uSS",
        "outputId": "580a8e6d-45d5-45e6-8ae2-60f56d5bc9f7"
      },
      "source": [
        "gmm = mixture.GaussianMixture(n_components=6, covariance_type='full')\n",
        "gmm.fit(datos)\n",
        "labels = gmm.predict(datos)\n",
        "plt.scatter(datos[:, 0], datos[:, 1], c=labels, s=40, cmap='viridis')"
      ],
      "execution_count": 23,
      "outputs": [
        {
          "output_type": "execute_result",
          "data": {
            "text/plain": [
              "<matplotlib.collections.PathCollection at 0x7f4f8f10cbd0>"
            ]
          },
          "metadata": {
            "tags": []
          },
          "execution_count": 23
        },
        {
          "output_type": "display_data",
          "data": {
            "image/png": "[encoded data removed]",
            "text/plain": [
              "<Figure size 432x288 with 1 Axes>"
            ]
          },
          "metadata": {
            "tags": [],
            "needs_background": "light"
          }
        }
      ]
    },
    {
      "cell_type": "markdown",
      "metadata": {
        "id": "LuWek8af5uIP"
      },
      "source": [
        "## Selección de K para los modelos\n",
        "\n",
        "Se tiene que para los experimentos con K=2 y K=3 si es posible asignar una categoria para los datos ya que cada punto se distribuye de manera correcta y cada categoria cuenta con mas de un dato asignado, se puede observar que los centroides para K = 2 estan ubicados de la siguientes forma:\n",
        "\n",
        "- Categoria 0: (1.72704918, 30.57377049) \n",
        "- Categoria 1: (1.74217391, 24.82608696)\n",
        "\n",
        "Para K = 3 los centroides estan ubicados de la siguiente forma:\n",
        "\n",
        "- Categoria 0: (1.72163043, 27.89130435) \n",
        "- Categoria 1: (1.758, 37.7)\n",
        "- Categoria 2: (1.75571429, 23.85714286)\n",
        "\n",
        "Por lo que K=2 y K=3 son los candidatos mas probables para ser utilizados para este modelo."
      ]
    },
    {
      "cell_type": "markdown",
      "metadata": {
        "id": "XI-FIX-6ztV8"
      },
      "source": [
        "## Análisis método del codo\n",
        "\n",
        "Se tiene que el método del codo utiliza los valores de la inercia obtenidos tras aplicar K-means a diferente número de Clusters K (desde 1 a N Clusters), siendo la inercia la suma de las distancias al cuadrado de cada objeto del Cluster a su centroide:\n",
        "\n",
        "![image.png](data:image/png;base64,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)"
      ]
    },
    {
      "cell_type": "markdown",
      "metadata": {
        "id": "n-2kza2-0NOR"
      },
      "source": [
        "Una vez se obtienen los valores de la inercia tras aplicar el K-means de 1 a N Clusters, estos se representan en una gráfica lineal la inercia respecto del número de Clusters. En esta gráfica se debería de apreciar un cambio brusco en la evolución de la inercia, teniendo la línea representada una forma similar a la de un brazo y su codo. El punto en el que se observa ese cambio brusco en la inercia indica el número óptimo de Clusters a seleccionar para ese data set. En otras palabras, el punto que representaría al codo del brazo en la gráfica será el número óptimo de Clusters para ese data set."
      ]
    },
    {
      "cell_type": "markdown",
      "metadata": {
        "id": "NddCnBY40pmR"
      },
      "source": [
        "### Aplicando el método del codo al dataset\n",
        "\n"
      ]
    },
    {
      "cell_type": "code",
      "metadata": {
        "id": "_Twlh-Xe1IEU"
      },
      "source": [
        "def plot_results(inertials):\n",
        "  x, y = zip(*[inertia for inertia in inertials])\n",
        "  plt.plot(x, y, 'ro-', markersize=8, lw=2)\n",
        "  plt.grid(True)\n",
        "  plt.xlabel('Numero de Clusters')\n",
        "  plt.ylabel('Inercia')\n",
        "  plt.show()"
      ],
      "execution_count": 31,
      "outputs": []
    },
    {
      "cell_type": "code",
      "metadata": {
        "colab": {
          "base_uri": "https://localhost:8080/",
          "height": 371
        },
        "id": "4aXoxXxp08U8",
        "outputId": "b682406c-c1f9-4742-da3b-800576b8f5ef"
      },
      "source": [
        "inertia_clusters = []\n",
        "for i in range(1, 6, 1):\n",
        "    model = K_means(k=i)\n",
        "    model.fit(datos)\n",
        "    print(model.inertia)\n",
        "    inertia_clusters.append([i, model.inertia])\n",
        "\n",
        "plot_results(inertia_clusters)"
      ],
      "execution_count": 32,
      "outputs": [
        {
          "output_type": "stream",
          "text": [
            "1600.2400404761904\n",
            "591.1840966666667\n",
            "244.11698148148145\n",
            "131.651225025641\n",
            "71.13596330336331\n"
          ],
          "name": "stdout"
        },
        {
          "output_type": "display_data",
          "data": {
            "image/png": "[encoded data removed]",
            "text/plain": [
              "<Figure size 432x288 with 1 Axes>"
            ]
          },
          "metadata": {
            "tags": [],
            "needs_background": "light"
          }
        }
      ]
    },
    {
      "cell_type": "markdown",
      "metadata": {
        "id": "9pFi-gez1fT6"
      },
      "source": [
        "Se obtiene a tráves del método del codo que el valor optimo de K es 3 ya que sobre ese punto se observa el cambio de la incercia del dataset. Por lo tanto se determina que este método es adecuado para este problema ya que los datos obtenidos tienen relación con la selección de K en la sección anterior."
      ]
    },
    {
      "cell_type": "markdown",
      "metadata": {
        "id": "I69iQtieKf0A"
      },
      "source": [
        "## Predicciones para los datos valtest"
      ]
    },
    {
      "cell_type": "markdown",
      "metadata": {
        "id": "8AX47XbjLGGL"
      },
      "source": [
        "### Leyendo los datos valtest"
      ]
    },
    {
      "cell_type": "code",
      "metadata": {
        "colab": {
          "base_uri": "https://localhost:8080/"
        },
        "id": "euXt8f7MWaeG",
        "outputId": "07d6c68b-9d91-489b-a08a-73faf86ba42e"
      },
      "source": [
        "df_valtest = pd.read_csv('estaturas_valtest.csv', sep=',',header=None)\n",
        "datos_valtest = df_valtest.to_numpy()\n",
        "datos_valtest"
      ],
      "execution_count": 10,
      "outputs": [
        {
          "output_type": "execute_result",
          "data": {
            "text/plain": [
              "array([[ 1.82, 25.  ],\n",
              "       [ 1.8 , 27.  ],\n",
              "       [ 1.6 , 31.  ],\n",
              "       [ 1.6 , 35.  ],\n",
              "       [ 1.82, 30.  ],\n",
              "       [ 1.76, 32.  ],\n",
              "       [ 1.79, 31.  ],\n",
              "       [ 1.61, 31.  ]])"
            ]
          },
          "metadata": {
            "tags": []
          },
          "execution_count": 10
        }
      ]
    },
    {
      "cell_type": "markdown",
      "metadata": {
        "id": "L4gRwZx-LKeK"
      },
      "source": [
        "### Predicciones para los datos utilizando el modelo creado con K-means"
      ]
    },
    {
      "cell_type": "code",
      "metadata": {
        "colab": {
          "base_uri": "https://localhost:8080/"
        },
        "id": "EI9gRiEAWlxR",
        "outputId": "995197ca-77f4-4105-c4c3-fd3b885f116a"
      },
      "source": [
        "model.predict(datos_valtest)"
      ],
      "execution_count": 11,
      "outputs": [
        {
          "output_type": "execute_result",
          "data": {
            "text/plain": [
              "array([[2],\n",
              "       [0],\n",
              "       [0],\n",
              "       [1],\n",
              "       [0],\n",
              "       [0],\n",
              "       [0],\n",
              "       [0]])"
            ]
          },
          "metadata": {
            "tags": []
          },
          "execution_count": 11
        }
      ]
    },
    {
      "cell_type": "markdown",
      "metadata": {
        "id": "Re6FURC0LVv_"
      },
      "source": [
        "### Probabilidades para los datos utilizando el modelo creado con GMM"
      ]
    },
    {
      "cell_type": "code",
      "metadata": {
        "colab": {
          "base_uri": "https://localhost:8080/"
        },
        "id": "r54sHvmKd7Na",
        "outputId": "bf9d4a97-1ef6-4e9f-d583-a39534819673"
      },
      "source": [
        "probs = gmm.predict_proba(datos_valtest)\n",
        "probs.round(3)"
      ],
      "execution_count": 13,
      "outputs": [
        {
          "output_type": "execute_result",
          "data": {
            "text/plain": [
              "array([[1.   , 0.   , 0.   ],\n",
              "       [0.997, 0.003, 0.   ],\n",
              "       [0.062, 0.022, 0.916],\n",
              "       [0.001, 0.987, 0.013],\n",
              "       [0.703, 0.242, 0.055],\n",
              "       [0.001, 0.034, 0.964],\n",
              "       [0.048, 0.145, 0.806],\n",
              "       [0.051, 0.022, 0.927]])"
            ]
          },
          "metadata": {
            "tags": []
          },
          "execution_count": 13
        }
      ]
    },
    {
      "cell_type": "markdown",
      "metadata": {
        "id": "SyhSf60ILxZV"
      },
      "source": [
        "## Estimación de Monte Carlo utilizando GMM"
      ]
    },
    {
      "cell_type": "code",
      "metadata": {
        "id": "CYrpiAmIe_DJ"
      },
      "source": [
        "def f(X):\n",
        "  x1 = X[:,0]\n",
        "  x2 = X[:,1]\n",
        "  return np.divide(x1,x2).reshape(len(x1),1)"
      ],
      "execution_count": 14,
      "outputs": []
    },
    {
      "cell_type": "code",
      "metadata": {
        "id": "svZvB0RBfTY9"
      },
      "source": [
        "f(datos_valtest)\n",
        "muestra,cluster = gmm.sample(1000)\n",
        "muestra_f = f(muestra)\n",
        "valor_esperado_f = np.mean(muestra_f)"
      ],
      "execution_count": 15,
      "outputs": []
    },
    {
      "cell_type": "code",
      "metadata": {
        "colab": {
          "base_uri": "https://localhost:8080/",
          "height": 284
        },
        "id": "o1rvZlt-hTY3",
        "outputId": "1e4af658-b3d4-4df3-a3e8-300987905d26"
      },
      "source": [
        "plt.hist(muestra_f, density=True)\n",
        "plt.axvline(valor_esperado_f,color=\"k\",linestyle=\"--\")\n",
        "plt.title(\"El valor esperado de f(X) es:{}\".format(valor_esperado_f))\n",
        "\n",
        "plt.show()"
      ],
      "execution_count": 16,
      "outputs": [
        {
          "output_type": "display_data",
          "data": {
            "image/png": "[encoded data removed]",
            "text/plain": [
              "<Figure size 432x288 with 1 Axes>"
            ]
          },
          "metadata": {
            "tags": [],
            "needs_background": "light"
          }
        }
      ]
    },
    {
      "cell_type": "markdown",
      "metadata": {
        "id": "7T6h6QlBL_Jb"
      },
      "source": [
        "## Conclusiones\n",
        "\n",
        "- Los modelos implementados con K-means dependen de la tolerancia escogida para su convergencia.\n",
        "- El método del codo es útil para seleccionar el mejor valor de K y es un método gráfico en donde se selecciona el valor en donde se presenta el mayor cambio.\n",
        "- Los modelos GMM pueden ser utilizados como modelos generativos."
      ]
    },
    {
      "cell_type": "markdown",
      "metadata": {
        "id": "9HBv2IstMCq0"
      },
      "source": [
        "## Referencias\n",
        "\n",
        "- Shapiro, D., PhD. (2018, June 20). Elbow Clustering for Artificial Intelligence - Towards Data Science. Medium. https://towardsdatascience.com/elbow-clustering-for-artificial-intelligence-be9c641d9cf8\n",
        "- VanderPlas, J. (2020). In Depth: Gaussian Mixture Models | Python Data Science Handbook. Python Data Science Handbook. https://jakevdp.github.io/PythonDataScienceHandbook/05.12-gaussian-mixtures.html\n"
      ]
    }
  ]
}