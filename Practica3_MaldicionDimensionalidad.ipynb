{
  "nbformat": 4,
  "nbformat_minor": 0,
  "metadata": {
    "colab": {
      "name": "Practica3-MaldicionDimensionalidad.ipynb",
      "provenance": [],
      "authorship_tag": "ABX9TyNcjyEu7wPhMHYjKFe8IbUa",
      "include_colab_link": true
    },
    "kernelspec": {
      "name": "python3",
      "display_name": "Python 3"
    },
    "language_info": {
      "name": "python"
    }
  },
  "cells": [
    {
      "cell_type": "markdown",
      "metadata": {
        "id": "view-in-github",
        "colab_type": "text"
      },
      "source": [
        "<a href=\"https://colab.research.google.com/github/alejandrolq/StaticalLearningII-Practicas/blob/main/Practica3_MaldicionDimensionalidad.ipynb\" target=\"_parent\"><img src=\"https://colab.research.google.com/assets/colab-badge.svg\" alt=\"Open In Colab\"/></a>"
      ]
    },
    {
      "cell_type": "markdown",
      "metadata": {
        "id": "Ghfmffbi95Tc"
      },
      "source": [
        "**Nombre: José Alejandro López Quel**\n",
        "\n",
        "**Carné: 21001127**\n",
        "\n",
        "**Statical Learning II**\n",
        "\n",
        "**Sección U**\n",
        "\n",
        "**Práctica 3**"
      ]
    },
    {
      "cell_type": "markdown",
      "metadata": {
        "id": "rgzV1vRo-R4R"
      },
      "source": [
        "## Maldición de la dimensionalidad\n",
        "\n"
      ]
    },
    {
      "cell_type": "markdown",
      "metadata": {
        "id": "qErSd9iS-kYW"
      },
      "source": [
        "### Importando librerías necesarias"
      ]
    },
    {
      "cell_type": "code",
      "metadata": {
        "id": "sEA-EJ5B984z"
      },
      "source": [
        "import numpy as np\n",
        "import pandas as pd\n",
        "import matplotlib.pyplot as plt\n",
        "from sklearn.preprocessing import PolynomialFeatures"
      ],
      "execution_count": 1,
      "outputs": []
    },
    {
      "cell_type": "markdown",
      "metadata": {
        "id": "4JMiCila-pxm"
      },
      "source": [
        "### Importando datos"
      ]
    },
    {
      "cell_type": "code",
      "metadata": {
        "id": "jOkmf0zJ-yJ3"
      },
      "source": [
        "data = np.load(\"proyecto_training_data.npy\")"
      ],
      "execution_count": 2,
      "outputs": []
    },
    {
      "cell_type": "code",
      "metadata": {
        "id": "58vdAn4i-0cO"
      },
      "source": [
        "columns = [\"SalePrice\", \"OverallQual\", \"1stFlrSF\", \"TotRmsAbvGrd\", \"YearBuilt\", \"LotFrontage\"]\n",
        "df = pd.DataFrame(data, columns=columns)"
      ],
      "execution_count": 3,
      "outputs": []
    },
    {
      "cell_type": "code",
      "metadata": {
        "colab": {
          "base_uri": "https://localhost:8080/",
          "height": 205
        },
        "id": "o2BESsHV_Ss6",
        "outputId": "6bdc969f-ecbe-4ff8-fc5c-ba234d87f9a7"
      },
      "source": [
        "df.head()"
      ],
      "execution_count": 4,
      "outputs": [
        {
          "output_type": "execute_result",
          "data": {
            "text/html": [
              "<div>\n",
              "<style scoped>\n",
              "    .dataframe tbody tr th:only-of-type {\n",
              "        vertical-align: middle;\n",
              "    }\n",
              "\n",
              "    .dataframe tbody tr th {\n",
              "        vertical-align: top;\n",
              "    }\n",
              "\n",
              "    .dataframe thead th {\n",
              "        text-align: right;\n",
              "    }\n",
              "</style>\n",
              "<table border=\"1\" class=\"dataframe\">\n",
              "  <thead>\n",
              "    <tr style=\"text-align: right;\">\n",
              "      <th></th>\n",
              "      <th>SalePrice</th>\n",
              "      <th>OverallQual</th>\n",
              "      <th>1stFlrSF</th>\n",
              "      <th>TotRmsAbvGrd</th>\n",
              "      <th>YearBuilt</th>\n",
              "      <th>LotFrontage</th>\n",
              "    </tr>\n",
              "  </thead>\n",
              "  <tbody>\n",
              "    <tr>\n",
              "      <th>0</th>\n",
              "      <td>208500.0</td>\n",
              "      <td>7.0</td>\n",
              "      <td>856.0</td>\n",
              "      <td>8.0</td>\n",
              "      <td>2003.0</td>\n",
              "      <td>65.0</td>\n",
              "    </tr>\n",
              "    <tr>\n",
              "      <th>1</th>\n",
              "      <td>181500.0</td>\n",
              "      <td>6.0</td>\n",
              "      <td>1262.0</td>\n",
              "      <td>6.0</td>\n",
              "      <td>1976.0</td>\n",
              "      <td>80.0</td>\n",
              "    </tr>\n",
              "    <tr>\n",
              "      <th>2</th>\n",
              "      <td>223500.0</td>\n",
              "      <td>7.0</td>\n",
              "      <td>920.0</td>\n",
              "      <td>6.0</td>\n",
              "      <td>2001.0</td>\n",
              "      <td>68.0</td>\n",
              "    </tr>\n",
              "    <tr>\n",
              "      <th>3</th>\n",
              "      <td>140000.0</td>\n",
              "      <td>7.0</td>\n",
              "      <td>961.0</td>\n",
              "      <td>7.0</td>\n",
              "      <td>1915.0</td>\n",
              "      <td>60.0</td>\n",
              "    </tr>\n",
              "    <tr>\n",
              "      <th>4</th>\n",
              "      <td>250000.0</td>\n",
              "      <td>8.0</td>\n",
              "      <td>1145.0</td>\n",
              "      <td>9.0</td>\n",
              "      <td>2000.0</td>\n",
              "      <td>84.0</td>\n",
              "    </tr>\n",
              "  </tbody>\n",
              "</table>\n",
              "</div>"
            ],
            "text/plain": [
              "   SalePrice  OverallQual  1stFlrSF  TotRmsAbvGrd  YearBuilt  LotFrontage\n",
              "0   208500.0          7.0     856.0           8.0     2003.0         65.0\n",
              "1   181500.0          6.0    1262.0           6.0     1976.0         80.0\n",
              "2   223500.0          7.0     920.0           6.0     2001.0         68.0\n",
              "3   140000.0          7.0     961.0           7.0     1915.0         60.0\n",
              "4   250000.0          8.0    1145.0           9.0     2000.0         84.0"
            ]
          },
          "metadata": {
            "tags": []
          },
          "execution_count": 4
        }
      ]
    },
    {
      "cell_type": "code",
      "metadata": {
        "id": "c4jy5h5AD-_c"
      },
      "source": [
        "columns_ = [\"OverallQual\", \"1stFlrSF\", \"TotRmsAbvGrd\", \"YearBuilt\", \"LotFrontage\"]"
      ],
      "execution_count": 5,
      "outputs": []
    },
    {
      "cell_type": "markdown",
      "metadata": {
        "id": "Bs2xd-rW-syF"
      },
      "source": [
        "### Generando función para analizar el comportamiento del dataset con el grado del polinomio a utilizar con la función PolynomialFeatures"
      ]
    },
    {
      "cell_type": "code",
      "metadata": {
        "id": "xXxqy0Vc__kl"
      },
      "source": [
        "def lista_features(df, g_polinomio):\n",
        "  lista_f = []\n",
        "  for i in range(1,g_polinomio+1):\n",
        "    lista_g = []\n",
        "    for j in range(1,g_polinomio+1):\n",
        "      grado = PolynomialFeatures(i)\n",
        "      features = grado.fit_transform(df[columns_[:j]])\n",
        "      lista_g.append(features.shape[1])\n",
        "    lista_f.append(lista_g)\n",
        "  return lista_f"
      ],
      "execution_count": 6,
      "outputs": []
    },
    {
      "cell_type": "code",
      "metadata": {
        "id": "9BJ6CfBWCPUw"
      },
      "source": [
        "lista = lista_features(df[columns[1:]], 3)"
      ],
      "execution_count": 7,
      "outputs": []
    },
    {
      "cell_type": "markdown",
      "metadata": {
        "id": "102WUcPw-9eq"
      },
      "source": [
        "### Representando datos obtenidos como un DataFrame"
      ]
    },
    {
      "cell_type": "code",
      "metadata": {
        "colab": {
          "base_uri": "https://localhost:8080/",
          "height": 143
        },
        "id": "0nu_CR54CknB",
        "outputId": "d55cb6b0-01f5-48b8-954e-79cb274d4478"
      },
      "source": [
        "res = pd.DataFrame(lista, index=['Grado 1', 'Grado 2', 'Grado 3'], columns=['1 Variable', '2 Variables', '3 Variables'])\n",
        "res"
      ],
      "execution_count": 8,
      "outputs": [
        {
          "output_type": "execute_result",
          "data": {
            "text/html": [
              "<div>\n",
              "<style scoped>\n",
              "    .dataframe tbody tr th:only-of-type {\n",
              "        vertical-align: middle;\n",
              "    }\n",
              "\n",
              "    .dataframe tbody tr th {\n",
              "        vertical-align: top;\n",
              "    }\n",
              "\n",
              "    .dataframe thead th {\n",
              "        text-align: right;\n",
              "    }\n",
              "</style>\n",
              "<table border=\"1\" class=\"dataframe\">\n",
              "  <thead>\n",
              "    <tr style=\"text-align: right;\">\n",
              "      <th></th>\n",
              "      <th>1 Variable</th>\n",
              "      <th>2 Variables</th>\n",
              "      <th>3 Variables</th>\n",
              "    </tr>\n",
              "  </thead>\n",
              "  <tbody>\n",
              "    <tr>\n",
              "      <th>Grado 1</th>\n",
              "      <td>2</td>\n",
              "      <td>3</td>\n",
              "      <td>4</td>\n",
              "    </tr>\n",
              "    <tr>\n",
              "      <th>Grado 2</th>\n",
              "      <td>3</td>\n",
              "      <td>6</td>\n",
              "      <td>10</td>\n",
              "    </tr>\n",
              "    <tr>\n",
              "      <th>Grado 3</th>\n",
              "      <td>4</td>\n",
              "      <td>10</td>\n",
              "      <td>20</td>\n",
              "    </tr>\n",
              "  </tbody>\n",
              "</table>\n",
              "</div>"
            ],
            "text/plain": [
              "         1 Variable  2 Variables  3 Variables\n",
              "Grado 1           2            3            4\n",
              "Grado 2           3            6           10\n",
              "Grado 3           4           10           20"
            ]
          },
          "metadata": {
            "tags": []
          },
          "execution_count": 8
        }
      ]
    },
    {
      "cell_type": "markdown",
      "metadata": {
        "id": "xy20h0x5_EPW"
      },
      "source": [
        "### Gráficas de los resultados obtenidos"
      ]
    },
    {
      "cell_type": "code",
      "metadata": {
        "colab": {
          "base_uri": "https://localhost:8080/",
          "height": 265
        },
        "id": "DRI4XSB4FFoy",
        "outputId": "ea72817e-3c69-48f2-c8c7-7966692da878"
      },
      "source": [
        "x = np.linspace(1,3,3)\n",
        "fig, ax = plt.subplots()\n",
        "ax.plot(x, res['1 Variable'], '-b', label='Polinomio Grado 1')\n",
        "ax.plot(x, res['2 Variables'], '-r', label='Polinomio Grado 2')\n",
        "ax.plot(x, res['3 Variables'], '-g', label='Polinomio Grado 3')\n",
        "leg = ax.legend();"
      ],
      "execution_count": 13,
      "outputs": [
        {
          "output_type": "display_data",
          "data": {
            "image/png": "[encoded data removed]",
            "text/plain": [
              "<Figure size 432x288 with 1 Axes>"
            ]
          },
          "metadata": {
            "tags": [],
            "needs_background": "light"
          }
        }
      ]
    },
    {
      "cell_type": "markdown",
      "metadata": {
        "id": "nuV7qBsQ-Phm"
      },
      "source": [
        "## Conclusiones"
      ]
    },
    {
      "cell_type": "markdown",
      "metadata": {
        "id": "LQAiyqv4AgLt"
      },
      "source": [
        "- Se tiene que al momento de que se aumentan el número de features, la cantidad de parámetros puede incrementar muy rápidamente.\n",
        "- Al aumentar la cantidad de parámetros entrenables incrementa la posibilidad de que el modelo sufra de overfitting y este tenga un error de generalización mayor de lo deseado.\n",
        "- Se obtiene que al calcular las features polinómicas, al momento de incrementar el grado del polinomio y el número de features con el que se desea modelar los datos la cantidad de parámetros incrementa rápidamente.\n",
        "- Se tiene que para un polinomio de grado 3 y empleando 3 variables de entrada se tiene que la cantidad total de features obtenidas es de 20. \n",
        "- Se concluye que la maldición de la dimensionalidad, se produce al momento de aumentar el número de dimensiones para elaborar un modelo, y se puede llegar a tener una gran cantidad de features e información esparcida."
      ]
    }
  ]
}